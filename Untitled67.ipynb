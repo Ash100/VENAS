{
  "nbformat": 4,
  "nbformat_minor": 0,
  "metadata": {
    "colab": {
      "provenance": [],
      "authorship_tag": "ABX9TyM+KC2yMpwX6dTbc2n+hQXA",
      "include_colab_link": true
    },
    "kernelspec": {
      "name": "python3",
      "display_name": "Python 3"
    },
    "language_info": {
      "name": "python"
    }
  },
  "cells": [
    {
      "cell_type": "markdown",
      "metadata": {
        "id": "view-in-github",
        "colab_type": "text"
      },
      "source": [
        "<a href=\"https://colab.research.google.com/github/Ash100/VENAS/blob/main/Untitled67.ipynb\" target=\"_parent\"><img src=\"https://colab.research.google.com/assets/colab-badge.svg\" alt=\"Open In Colab\"/></a>"
      ]
    },
    {
      "cell_type": "markdown",
      "source": [
        "This is a pipeline of **VENAS** (Viral Genome Evolutionary Network Analysis System) and is modelled by **Dr. Ashfaq Ahmad**. It is an open-source for non-commercial research and can be found in [VENAS Citation](https://pmc.ncbi.nlm.nih.gov/articles/PMC8743795/)."
      ],
      "metadata": {
        "id": "33fQ1u0nuL6U"
      }
    },
    {
      "cell_type": "code",
      "execution_count": null,
      "metadata": {
        "cellView": "form",
        "id": "bU8sTdPbIFsM"
      },
      "outputs": [],
      "source": [
        "#@title Install the required packages\n",
        "!pip install biopython networkx matplotlib\n",
        "!apt-get install mafft\n",
        "!apt-get install fasttree"
      ]
    },
    {
      "cell_type": "code",
      "source": [
        "#@title Clone VENAS from github\n",
        "!git clone https://github.com/BioMedBigDataCenter/VENAS.git"
      ],
      "metadata": {
        "cellView": "form",
        "id": "7xAfTI3mINEY"
      },
      "execution_count": null,
      "outputs": []
    },
    {
      "cell_type": "code",
      "source": [
        "#@title Navigate to VENAS\n",
        "%cd VENAS"
      ],
      "metadata": {
        "cellView": "form",
        "id": "mt4gTUnzIgL_"
      },
      "execution_count": null,
      "outputs": []
    },
    {
      "cell_type": "code",
      "source": [
        "#@title Step 1: Calculation for ePIS\n",
        "! python -u /content/VENAS/parsimony-informative.py -i /content/VENAS/example_data -m aligned_sequences-883.fasta -b none -r 0 -f \"NC_039199.1-\""
      ],
      "metadata": {
        "cellView": "form",
        "id": "fuasiZoJItD2"
      },
      "execution_count": null,
      "outputs": []
    },
    {
      "cell_type": "code",
      "source": [
        "%cd /content/VENAS/parham/\n",
        "!make"
      ],
      "metadata": {
        "id": "5ndX8wVPQNa1"
      },
      "execution_count": null,
      "outputs": []
    },
    {
      "cell_type": "code",
      "source": [
        "!chmod +x /content/VENAS/parham/libparham.so"
      ],
      "metadata": {
        "id": "_KOZPOexQ0kg"
      },
      "execution_count": 7,
      "outputs": []
    },
    {
      "cell_type": "code",
      "source": [
        "#@title Generates Haplotype Networks\n",
        "!python -u /content/VENAS/haplotype_network.py /content/VENAS/example_data"
      ],
      "metadata": {
        "cellView": "form",
        "id": "P54Ct0ssrnZY"
      },
      "execution_count": null,
      "outputs": []
    },
    {
      "cell_type": "code",
      "source": [
        "#@title Managing file for Gephi\n",
        "!awk -F'\\t' '{print $1\",\"$2}' /content/VENAS/example_data/net_all.txt > /content/VENAS/example_data/net.csv\n",
        "!sed -i '1i\\Source,Target' /content/VENAS/example_data/net.csv\n"
      ],
      "metadata": {
        "cellView": "form",
        "id": "yRrLDX1xtPQJ"
      },
      "execution_count": 27,
      "outputs": []
    }
  ]
}